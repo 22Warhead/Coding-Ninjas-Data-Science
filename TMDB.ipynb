{
 "cells": [
  {
   "cell_type": "code",
   "execution_count": 1,
   "id": "db6899e6",
   "metadata": {},
   "outputs": [],
   "source": [
    "import requests\n",
    "import json\n",
    "from requests.auth import HTTPBasicAuth "
   ]
  },
  {
   "cell_type": "markdown",
   "id": "f5476fc5",
   "metadata": {},
   "source": [
    "# TMDb 1.1"
   ]
  },
  {
   "cell_type": "markdown",
   "id": "f89fb5c9",
   "metadata": {},
   "source": [
    "Find the 'id' of the movie \"Andhadhun\" using TMDb API."
   ]
  },
  {
   "cell_type": "code",
   "execution_count": 2,
   "id": "88d8bc91",
   "metadata": {},
   "outputs": [
    {
     "name": "stdout",
     "output_type": "stream",
     "text": [
      "534780\n"
     ]
    }
   ],
   "source": [
    "api = \"9a950cd3fe569ad47469937df828a170\"\n",
    "p = {\"api_key\":api, 'query':\"Andhadhun\"}\n",
    "res = requests.get(\"https://api.themoviedb.org/3/search/movie/\", params=p).json()\n",
    "print(res['results'][0]['id'])"
   ]
  },
  {
   "cell_type": "markdown",
   "id": "5082d2c0",
   "metadata": {},
   "source": [
    "# TMDb 1.2 "
   ]
  },
  {
   "cell_type": "markdown",
   "id": "19ac786b",
   "metadata": {},
   "source": [
    "Fetch the company id company 'Marvel Studios' using TMDb. Print the id."
   ]
  },
  {
   "cell_type": "code",
   "execution_count": 3,
   "id": "dbcb6ce3",
   "metadata": {},
   "outputs": [
    {
     "name": "stdout",
     "output_type": "stream",
     "text": [
      "420\n"
     ]
    }
   ],
   "source": [
    "api = \"9a950cd3fe569ad47469937df828a170\"\n",
    "p = {\"api_key\":api, 'query':\"Marvel Studios\", \"page\":1}\n",
    "res = requests.get(f\"https://api.themoviedb.org/3/search/company?api_key={api}&query=marvel%20studios&page=1\").json()\n",
    "print(res['results'][0]['id'])"
   ]
  },
  {
   "cell_type": "markdown",
   "id": "3af5b2b8",
   "metadata": {},
   "source": [
    "# TMDb 1.3"
   ]
  },
  {
   "cell_type": "markdown",
   "id": "d6ec6316",
   "metadata": {},
   "source": [
    "Find the vote count and vote average of the movie \"3 Idiots\" using the TMDb API"
   ]
  },
  {
   "cell_type": "code",
   "execution_count": 4,
   "id": "02212b4a",
   "metadata": {},
   "outputs": [
    {
     "name": "stdout",
     "output_type": "stream",
     "text": [
      "1952 8\n"
     ]
    }
   ],
   "source": [
    "import requests\n",
    "## Write your code here\n",
    "api = \"9a950cd3fe569ad47469937df828a170\"\n",
    "p = {\"api_key\":api, 'query':\"3 Idiots\"}\n",
    "res = requests.get(\"https://api.themoviedb.org/3/search/movie/\", params=p).json()\n",
    "c = 0\n",
    "a = len(res['results'])\n",
    "print(res['results'][0]['vote_count'], res['results'][0][\"vote_average\"])"
   ]
  },
  {
   "cell_type": "markdown",
   "id": "12ae019e",
   "metadata": {},
   "source": [
    "# TMDB 1.4"
   ]
  },
  {
   "cell_type": "markdown",
   "id": "766b88b2",
   "metadata": {},
   "source": [
    "Fetch the names of top 5 similar movies to 'Inception' from the TMDb API."
   ]
  },
  {
   "cell_type": "code",
   "execution_count": 17,
   "id": "cbd54450",
   "metadata": {},
   "outputs": [
    {
     "name": "stdout",
     "output_type": "stream",
     "text": [
      "Inception\n",
      "Star Trek: The Motion Picture\n",
      "The Prestige\n",
      "Edward Scissorhands\n",
      "The Big Blue\n"
     ]
    }
   ],
   "source": [
    "api = \"9a950cd3fe569ad47469937df828a170\"\n",
    "p = {\"api_key\":api, 'query':\"Inception\"}\n",
    "res = requests.get(\"https://api.themoviedb.org/3/search/movie/\", params=p).json()\n",
    "for i in res['results']:\n",
    "    if i['title'] == \"Inception\":\n",
    "        x = i['id']\n",
    "res = requests.get(f\"https://api.themoviedb.org/3/movie/{x}/similar?api_key={api}\").json()\n",
    "for i in res['results'][:5]:\n",
    "    print(i['title'])"
   ]
  },
  {
   "cell_type": "markdown",
   "id": "9276c94a",
   "metadata": {},
   "source": [
    "# TMDB 1.5"
   ]
  },
  {
   "cell_type": "markdown",
   "id": "278e9fd7",
   "metadata": {},
   "source": [
    "Fetch the top rated english movies in the US region using the TMDb API. From the result, print the first 10 movies which have original language as english. Also print their genres."
   ]
  },
  {
   "cell_type": "code",
   "execution_count": 18,
   "id": "cf30001e",
   "metadata": {},
   "outputs": [
    {
     "name": "stdout",
     "output_type": "stream",
     "text": [
      "The Godfather - Drama, Crime, \n",
      "The Shawshank Redemption - Drama, Crime, \n",
      "The Godfather Part II - Drama, Crime, \n",
      "Schindler's List - Drama, History, War, \n",
      "12 Angry Men - Drama, \n",
      "The Green Mile - Fantasy, Drama, Crime, \n",
      "The Dark Knight - Drama, Action, Crime, Thriller, \n",
      "Gabriel's Inferno - Romance, \n",
      "Gabriel's Inferno: Part II - Romance, \n",
      "Pulp Fiction - Thriller, Crime, \n"
     ]
    }
   ],
   "source": [
    "import requests\n",
    "## Write your code here\n",
    "\n",
    "apiKey = \"9a950cd3fe569ad47469937df828a170\"\n",
    "\n",
    "res = requests.get('https://api.themoviedb.org/3/genre/movie/list',params={'api_key':apiKey}) \n",
    "data=res.json()\n",
    "genres={}\n",
    "for i in data['genres']:\n",
    "    genres[i['id']]=i['name']\n",
    "\n",
    "\n",
    "res = requests.get('https://api.themoviedb.org/3/movie/top_rated',params={'api_key':apiKey,'region':'US'}) \n",
    "data=res.json()\n",
    "data['results']\n",
    "count=0\n",
    "for i in data['results']:\n",
    "    if i['original_language']=='en':\n",
    "        print(i['title'],end=' - ')\n",
    "        for j in i['genre_ids']:\n",
    "            print(genres[j],end=', ')\n",
    "        print()\n",
    "        count+=1\n",
    "    if count==10:\n",
    "        break"
   ]
  },
  {
   "cell_type": "markdown",
   "id": "94911c01",
   "metadata": {},
   "source": [
    "# TMDB 2.1"
   ]
  },
  {
   "cell_type": "markdown",
   "id": "0e074173",
   "metadata": {},
   "source": [
    "Find the name and birthplace of the present most popular person according to TMDb API."
   ]
  },
  {
   "cell_type": "code",
   "execution_count": 31,
   "id": "0fdff5df",
   "metadata": {},
   "outputs": [
    {
     "name": "stdout",
     "output_type": "stream",
     "text": [
      "974169\n",
      "Jenna Ortega - Coachella Valley, Palm Desert, California, USA\n"
     ]
    }
   ],
   "source": [
    "import requests\n",
    "api = \"9a950cd3fe569ad47469937df828a170\"\n",
    "res = requests.get(\"https://api.themoviedb.org/3/person/popular\", params={\"api_key\":api})\n",
    "res = res.json()\n",
    "ans = res['results'][0]\n",
    "print(ans['id'])\n",
    "n = ans['name']\n",
    "res = requests.get(f\"https://api.themoviedb.org/3/person/{ans['id']}\", params={'api_key':api}).json()\n",
    "res['place_of_birth']\n",
    "print(n, \"-\", res['place_of_birth'])"
   ]
  },
  {
   "cell_type": "markdown",
   "id": "e112dd0b",
   "metadata": {},
   "source": [
    "# TMDB 2.2"
   ]
  },
  {
   "cell_type": "markdown",
   "id": "13d85d6e",
   "metadata": {},
   "source": [
    "Fetch the Instagram and Twitter handle of Indian Actress \"Alia Bhatt\" from the TMDb API."
   ]
  },
  {
   "cell_type": "code",
   "execution_count": 34,
   "id": "d0528767",
   "metadata": {},
   "outputs": [
    {
     "name": "stdout",
     "output_type": "stream",
     "text": [
      "aliaabhatt Aliaa08\n"
     ]
    }
   ],
   "source": [
    "import requests\n",
    "api = \"9a950cd3fe569ad47469937df828a170\"\n",
    "p = {'api_key':api, \"query\":\"Alia Bhatt\"}\n",
    "res = requests.get(\"https://api.themoviedb.org/3/search/person\", params=p).json()\n",
    "x= res['results'][0]['id']\n",
    "p = {'api_key':api}\n",
    "res = requests.get(f\"https://api.themoviedb.org/3/person/{x}/external_ids\", params=p).json()\n",
    "print(res['instagram_id'], res['twitter_id'])"
   ]
  },
  {
   "cell_type": "markdown",
   "id": "a4b392b3",
   "metadata": {},
   "source": [
    "# TMDB 2.3"
   ]
  },
  {
   "cell_type": "markdown",
   "id": "9c9c7353",
   "metadata": {},
   "source": [
    "Fetch the names of the character played by Tom Cruise in the movies:\n",
    "\n",
    "Top Gun\n",
    "\n",
    "Mission: Impossible - Fallout\n",
    "\n",
    "Minority Report\n",
    "\n",
    "Edge of Tomorrow"
   ]
  },
  {
   "cell_type": "code",
   "execution_count": 42,
   "id": "bf2161d1",
   "metadata": {},
   "outputs": [
    {
     "name": "stdout",
     "output_type": "stream",
     "text": [
      "Lt. Pete 'Maverick' Mitchell\n",
      "Ethan Hunt\n",
      "Chief John Anderton\n",
      "Maj. William 'Bill' Cage\n"
     ]
    }
   ],
   "source": [
    "import requests\n",
    "api = \"9a950cd3fe569ad47469937df828a170\"\n",
    "p = {'api_key':api, \"query\":\"Tom Cruise\"}\n",
    "res = requests.get(\"https://api.themoviedb.org/3/search/person\", params=p).json()\n",
    "x= res['results'][0]['id']\n",
    "p = {'api_key':api}\n",
    "res = requests.get(f\"https://api.themoviedb.org/3/person/{x}/movie_credits\", params=p).json()\n",
    "movies = [\"Top Gun\", \"Mission: Impossible - Fallout\", \"Minority Report\", \"Edge of Tomorrow\"]\n",
    "res[\"cast\"]\n",
    "for i in movies:\n",
    "    for j in res['cast']:\n",
    "        if j['title'] == i:\n",
    "            print(j['character'])\n",
    "            break"
   ]
  },
  {
   "cell_type": "markdown",
   "id": "02922963",
   "metadata": {},
   "source": [
    "# TMDB 3.1"
   ]
  },
  {
   "cell_type": "markdown",
   "id": "043d5025",
   "metadata": {},
   "source": [
    "Fetch the overview of the TV Show \"FRIENDS\" using TMDb API."
   ]
  },
  {
   "cell_type": "code",
   "execution_count": 45,
   "id": "ac5a8c15",
   "metadata": {},
   "outputs": [
    {
     "name": "stdout",
     "output_type": "stream",
     "text": [
      "Six young people from New York City, on their own and struggling to survive in the real world, find the companionship, comfort and support they get from each other to be the perfect antidote to the pressures of life.\n"
     ]
    }
   ],
   "source": [
    "import requests\n",
    "api = \"9a950cd3fe569ad47469937df828a170\"\n",
    "p = {'api_key':api, \"query\":\"friends\"}\n",
    "res = requests.get(\"https://api.themoviedb.org/3/search/tv\", params=p).json()\n",
    "print(res['results'][0]['overview'])"
   ]
  },
  {
   "cell_type": "markdown",
   "id": "4cdc1fb4",
   "metadata": {},
   "source": [
    "# TMDB 3.2"
   ]
  },
  {
   "cell_type": "markdown",
   "id": "6d3af864",
   "metadata": {},
   "source": [
    "Fetch the name and air date of S06E05 of the TV Show 'The Big Bang Theory' from TMDb API."
   ]
  },
  {
   "cell_type": "code",
   "execution_count": 51,
   "id": "30d4cfb7",
   "metadata": {},
   "outputs": [
    {
     "name": "stdout",
     "output_type": "stream",
     "text": [
      "The Holographic Excitation - 2012-10-25\n"
     ]
    }
   ],
   "source": [
    "import requests\n",
    "api = \"9a950cd3fe569ad47469937df828a170\"\n",
    "p = {'api_key':api, \"query\":\"big bang theory\"}\n",
    "res = requests.get(\"https://api.themoviedb.org/3/search/tv\", params=p).json()\n",
    "x = res['results'][0]['id']\n",
    "p = {'api_key':api}\n",
    "res = requests.get(f\"https://api.themoviedb.org/3/tv/{x}/season/6/episode/5\", params=p).json()\n",
    "print(res['name'], \"-\", res[\"air_date\"])"
   ]
  },
  {
   "cell_type": "markdown",
   "id": "8b3e2e37",
   "metadata": {},
   "source": [
    "# TMDB 3.3"
   ]
  },
  {
   "cell_type": "markdown",
   "id": "dce7f045",
   "metadata": {},
   "source": [
    "Fetch the trending TV Shows for the week from the TMDb API and print the taglines of the top 5 shows. If there is no tagline, print 'Empty' instead"
   ]
  },
  {
   "cell_type": "code",
   "execution_count": 66,
   "id": "0c5e52f6",
   "metadata": {},
   "outputs": [
    {
     "name": "stdout",
     "output_type": "stream",
     "text": [
      "Empty\n",
      "The next great adventure begins.\n",
      "What is lost will be found.\n",
      "Empty\n",
      "The Rebellion begins.\n"
     ]
    }
   ],
   "source": [
    "import requests\n",
    "api = \"9a950cd3fe569ad47469937df828a170\"\n",
    "p = {'api_key':api}\n",
    "res = requests.get(f\"https://api.themoviedb.org/3/trending/tv/week\", params=p).json()\n",
    "for i in res['results'][:5]:\n",
    "    x = i['id']\n",
    "    y = requests.get(f\"https://api.themoviedb.org/3/tv/{x}\", params=p).json()\n",
    "    if y['tagline']:\n",
    "        print(y['tagline'])\n",
    "    else:\n",
    "        print(\"Empty\")"
   ]
  },
  {
   "cell_type": "markdown",
   "id": "44af3c0a",
   "metadata": {},
   "source": [
    "# TMDB 3.4"
   ]
  },
  {
   "cell_type": "markdown",
   "id": "887c8cdb",
   "metadata": {},
   "source": [
    "Print the names of all the TV shows to be aired today whose original language is english."
   ]
  },
  {
   "cell_type": "code",
   "execution_count": 79,
   "id": "c0bdf0e3",
   "metadata": {},
   "outputs": [
    {
     "name": "stdout",
     "output_type": "stream",
     "text": [
      "Bhagya Lakshmi\n",
      "Faltu\n",
      "Rick and Morty\n",
      "Yellowstone\n",
      "The Simpsons\n",
      "Family Guy\n",
      "The White Lotus\n",
      "Bob's Burgers\n",
      "Tulsa King\n",
      "The Chosen\n",
      "The L Word: Generation Q\n",
      "Let the Right One In\n",
      "Step Up\n",
      "Strictly Come Dancing\n",
      "George & Tammy\n",
      "PBS News Weekend\n",
      "Strike\n",
      "The Great North\n",
      "Dangerous Liaisons\n",
      "The Real Housewives of Potomac\n",
      "Naked News\n",
      "Escape to the Chateau\n",
      "This Is Life with Lisa Ling\n",
      "Lost Treasures of Egypt\n",
      "On the Case with Paula Zahn\n",
      "Death Battle!\n",
      "The BMF Documentary: Blowing Money Fast\n",
      "The Dengineers\n",
      "The Toys That Built America\n",
      "Christmas Cookie Challenge\n",
      "The Lost Kitchen\n",
      "Ziwe\n",
      "Family Karma\n",
      "Holiday Wars\n",
      "Film Noir\n",
      "Simon Schama's History of Now\n",
      "Predators\n",
      "Reality of Wrestling\n",
      "Everyday Cooking\n",
      "Cek Toko Sebelah The Series Season 3\n",
      "Snackmasters Australia\n",
      "E:60\n",
      "Serial Killer Capital: Baton Rouge\n",
      "Junior Eurovision Song Contest\n",
      "Sunday with Laura Kuenssberg\n",
      "Real Life Nightmare\n",
      "『NUMBER GIRL 無常の日』 完全生中継\n"
     ]
    }
   ],
   "source": [
    "import requests\n",
    "api = \"9a950cd3fe569ad47469937df828a170\"\n",
    "x = 1\n",
    "i = 1\n",
    "while x > 0:\n",
    "    p = {'api_key':api, 'page':i}\n",
    "    res = requests.get(\"https://api.themoviedb.org/3/tv/airing_today\", params=p).json()\n",
    "    x = len(res['results'])\n",
    "    for j in res['results']:\n",
    "        if j['original_language'] == 'en':\n",
    "            print(j['name'])\n",
    "    i+=1"
   ]
  },
  {
   "cell_type": "markdown",
   "id": "53fcca14",
   "metadata": {},
   "source": [
    "# TMDB 3.5"
   ]
  },
  {
   "cell_type": "markdown",
   "id": "02e2762f",
   "metadata": {},
   "source": [
    "Count the number of males and females in the cast of \"Money Heist\" using the TMDb API."
   ]
  },
  {
   "cell_type": "code",
   "execution_count": 86,
   "id": "e4dd3ff8",
   "metadata": {},
   "outputs": [
    {
     "data": {
      "text/plain": [
       "{'cast': [{'adult': False,\n",
       "   'gender': 2,\n",
       "   'id': 1340020,\n",
       "   'known_for_department': 'Acting',\n",
       "   'name': 'Álvaro Morte',\n",
       "   'original_name': 'Álvaro Morte',\n",
       "   'popularity': 9.606,\n",
       "   'profile_path': '/2TGPhdpRC5wjdFEJqnLYiN5kbwg.jpg',\n",
       "   'character': \"Sergio 'El Profesor' Marquina / Salvador 'Salva' Martin\",\n",
       "   'credit_id': '5d3376536a300b1834ac44e5',\n",
       "   'order': 0},\n",
       "  {'adult': False,\n",
       "   'gender': 2,\n",
       "   'id': 1109836,\n",
       "   'known_for_department': 'Acting',\n",
       "   'name': 'Pedro Alonso',\n",
       "   'original_name': 'Pedro Alonso',\n",
       "   'popularity': 12.021,\n",
       "   'profile_path': '/38HeVKeOBztVYrLJOWzAtEZiB02.jpg',\n",
       "   'character': \"Andrés 'Berlin' de Fonollosa\",\n",
       "   'credit_id': '5d34b7bd17792c0012bcac8d',\n",
       "   'order': 1},\n",
       "  {'adult': False,\n",
       "   'gender': 1,\n",
       "   'id': 1042728,\n",
       "   'known_for_department': 'Acting',\n",
       "   'name': 'Úrsula Corberó',\n",
       "   'original_name': 'Úrsula Corberó',\n",
       "   'popularity': 21.055,\n",
       "   'profile_path': '/wfy2YBmaGkH5kl60y3P03tTAMMc.jpg',\n",
       "   'character': \"Silene 'Tokio' Oliveira\",\n",
       "   'credit_id': '5a422574c3a36858c5036f41',\n",
       "   'order': 2},\n",
       "  {'adult': False,\n",
       "   'gender': 1,\n",
       "   'id': 947514,\n",
       "   'known_for_department': 'Acting',\n",
       "   'name': 'Itziar Ituño',\n",
       "   'original_name': 'Itziar Ituño',\n",
       "   'popularity': 17.224,\n",
       "   'profile_path': '/vnrfL03NwRJ1X82esSNUoYzASGr.jpg',\n",
       "   'character': 'Raquel Murillo',\n",
       "   'credit_id': '5a4225d29251411fab04d6ea',\n",
       "   'order': 3},\n",
       "  {'adult': False,\n",
       "   'gender': 2,\n",
       "   'id': 1972706,\n",
       "   'known_for_department': 'Acting',\n",
       "   'name': 'Jaime Lorente',\n",
       "   'original_name': 'Jaime Lorente',\n",
       "   'popularity': 10.951,\n",
       "   'profile_path': '/nLaxzU92z14FIbe25sE8jDMIThZ.jpg',\n",
       "   'character': \"Dani 'Denver' Ramos\",\n",
       "   'credit_id': '5a773f46c3a3682273001229',\n",
       "   'order': 5},\n",
       "  {'adult': False,\n",
       "   'gender': 2,\n",
       "   'id': 1428896,\n",
       "   'known_for_department': 'Acting',\n",
       "   'name': 'Miguel Herrán',\n",
       "   'original_name': 'Miguel Herrán',\n",
       "   'popularity': 14.971,\n",
       "   'profile_path': '/jJ8UKek4GvQrQUP9q97Kq2MWVqi.jpg',\n",
       "   'character': \"Aníbal 'Río' Cortés\",\n",
       "   'credit_id': '5a4227c89251411f4f04a5b3',\n",
       "   'order': 6},\n",
       "  {'adult': False,\n",
       "   'gender': 1,\n",
       "   'id': 1972707,\n",
       "   'known_for_department': 'Acting',\n",
       "   'name': 'Esther Acebo',\n",
       "   'original_name': 'Esther Acebo',\n",
       "   'popularity': 12.206,\n",
       "   'profile_path': '/2v2eOKCjnQfY3jCsowtH8wLxFMC.jpg',\n",
       "   'character': 'Mónica Gaztambide',\n",
       "   'credit_id': '5a773f680e0a26598500132a',\n",
       "   'order': 7},\n",
       "  {'adult': False,\n",
       "   'gender': 1,\n",
       "   'id': 16442,\n",
       "   'known_for_department': 'Acting',\n",
       "   'name': 'Najwa Nimri',\n",
       "   'original_name': 'Najwa Nimri',\n",
       "   'popularity': 15.67,\n",
       "   'profile_path': '/hvLbKkDIT4FqSS8djmW5voNd0O4.jpg',\n",
       "   'character': 'Alicia Sierra',\n",
       "   'credit_id': '5d2e09e8caab6d1e81a3b6f2',\n",
       "   'order': 8},\n",
       "  {'adult': False,\n",
       "   'gender': 2,\n",
       "   'id': 18478,\n",
       "   'known_for_department': 'Acting',\n",
       "   'name': 'Rodrigo de la Serna',\n",
       "   'original_name': 'Rodrigo de la Serna',\n",
       "   'popularity': 4.582,\n",
       "   'profile_path': '/vMuKUJSnEGOmjjLYzVDKGukiaCr.jpg',\n",
       "   'character': \"Martín 'Palermo' Berrote\",\n",
       "   'credit_id': '5d2e07af839d93000eefbc63',\n",
       "   'order': 9},\n",
       "  {'adult': False,\n",
       "   'gender': 2,\n",
       "   'id': 1898026,\n",
       "   'known_for_department': 'Acting',\n",
       "   'name': 'Darko Peric',\n",
       "   'original_name': 'Darko Peric',\n",
       "   'popularity': 5.845,\n",
       "   'profile_path': '/9IsIRW3PE105bfwen4IzGPXfmQc.jpg',\n",
       "   'character': \"Mirko 'Helsinki' Dragic\",\n",
       "   'credit_id': '5a773f9a92514177690011a6',\n",
       "   'order': 10},\n",
       "  {'adult': False,\n",
       "   'gender': 2,\n",
       "   'id': 1131415,\n",
       "   'known_for_department': 'Acting',\n",
       "   'name': 'Hovik Keuchkerian',\n",
       "   'original_name': 'Hovik Keuchkerian',\n",
       "   'popularity': 2.963,\n",
       "   'profile_path': '/o5cGKWHlZl4RFROYlT2hD95j0lN.jpg',\n",
       "   'character': \"Santiago 'Bogotá' López\",\n",
       "   'credit_id': '5d2e078f6a300b000fa4d50c',\n",
       "   'order': 12},\n",
       "  {'adult': False,\n",
       "   'gender': 2,\n",
       "   'id': 1076809,\n",
       "   'known_for_department': 'Acting',\n",
       "   'name': 'Luka Peroš',\n",
       "   'original_name': 'Luka Peroš',\n",
       "   'popularity': 6.51,\n",
       "   'profile_path': '/lfh7959EpR9gAvrjObNGXaUg2qF.jpg',\n",
       "   'character': \"Jakov 'Marsella'\",\n",
       "   'credit_id': '610d419d323eba005dd9c933',\n",
       "   'order': 13},\n",
       "  {'adult': False,\n",
       "   'gender': 1,\n",
       "   'id': 1423493,\n",
       "   'known_for_department': 'Acting',\n",
       "   'name': 'Belén Cuesta',\n",
       "   'original_name': 'Belén Cuesta',\n",
       "   'popularity': 4.159,\n",
       "   'profile_path': '/xxaNCeIuLh7nZvuCrwANO3zwI5g.jpg',\n",
       "   'character': 'Julia Martínez',\n",
       "   'credit_id': '610d41ae5a4690005ff40b54',\n",
       "   'order': 15},\n",
       "  {'adult': False,\n",
       "   'gender': 2,\n",
       "   'id': 944099,\n",
       "   'known_for_department': 'Acting',\n",
       "   'name': 'Enrique Arce',\n",
       "   'original_name': 'Enrique Arce',\n",
       "   'popularity': 8.394,\n",
       "   'profile_path': '/1lACQepfukuZ0l6FnUpMO03WxcJ.jpg',\n",
       "   'character': 'Arturo Román',\n",
       "   'credit_id': '5a773eeac3a368227b001336',\n",
       "   'order': 16},\n",
       "  {'adult': False,\n",
       "   'gender': 2,\n",
       "   'id': 51902,\n",
       "   'known_for_department': 'Acting',\n",
       "   'name': 'Fernando Cayo',\n",
       "   'original_name': 'Fernando Cayo',\n",
       "   'popularity': 3.337,\n",
       "   'profile_path': '/sglfXHNFlzOBBLuRrbDkxghSW4H.jpg',\n",
       "   'character': 'Luis Tamayo',\n",
       "   'credit_id': '610d41fa323eba005dd9c9d8',\n",
       "   'order': 17}],\n",
       " 'crew': [],\n",
       " 'id': 71446}"
      ]
     },
     "execution_count": 86,
     "metadata": {},
     "output_type": "execute_result"
    }
   ],
   "source": [
    "import requests\n",
    "api = \"9a950cd3fe569ad47469937df828a170\"\n",
    "p = {'api_key':api, 'query':\"MOney heist\"}\n",
    "res = requests.get(\"https://api.themoviedb.org/3/search/tv\", params=p).json()\n",
    "for i in res['results']:\n",
    "    if i['name'] == 'Money Heist':\n",
    "        x = i['id']\n",
    "        break\n",
    "res = requests.get(f\"https://api.themoviedb.org/3/tv/{x}/credits\", params={'api_key':api}).json()\n",
    "m = 0\n",
    "f = 0\n",
    "for i in res['cast']:\n",
    "    if i['gender'] == 1:\n",
    "        f += 1\n",
    "    else:\n",
    "        m += 1\n",
    "print(m, f)"
   ]
  },
  {
   "cell_type": "code",
   "execution_count": null,
   "id": "f18652c9",
   "metadata": {},
   "outputs": [],
   "source": []
  }
 ],
 "metadata": {
  "kernelspec": {
   "display_name": "Python 3 (ipykernel)",
   "language": "python",
   "name": "python3"
  },
  "language_info": {
   "codemirror_mode": {
    "name": "ipython",
    "version": 3
   },
   "file_extension": ".py",
   "mimetype": "text/x-python",
   "name": "python",
   "nbconvert_exporter": "python",
   "pygments_lexer": "ipython3",
   "version": "3.9.13"
  }
 },
 "nbformat": 4,
 "nbformat_minor": 5
}
